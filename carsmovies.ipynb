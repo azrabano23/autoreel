{
  "nbformat": 4,
  "nbformat_minor": 0,
  "metadata": {
    "colab": {
      "provenance": [],
      "authorship_tag": "ABX9TyPQB1l9x652KJVlmsNJYdGZ",
      "include_colab_link": true
    },
    "kernelspec": {
      "name": "python3",
      "display_name": "Python 3"
    },
    "language_info": {
      "name": "python"
    }
  },
  "cells": [
    {
      "cell_type": "markdown",
      "metadata": {
        "id": "view-in-github",
        "colab_type": "text"
      },
      "source": [
        "<a href=\"https://colab.research.google.com/github/azrabano23/autoreel/blob/main/carsmovies.ipynb\" target=\"_parent\"><img src=\"https://colab.research.google.com/assets/colab-badge.svg\" alt=\"Open In Colab\"/></a>"
      ]
    },
    {
      "cell_type": "code",
      "source": [
        "# Import necessary libraries\n",
        "import pandas as pd\n",
        "import matplotlib.pyplot as plt\n",
        "import plotly.express as px\n",
        "from sklearn.model_selection import train_test_split\n",
        "from sklearn.ensemble import RandomForestClassifier\n",
        "from sklearn.metrics import accuracy_score\n",
        "import dash\n",
        "from dash import dcc, html\n",
        "from dash.dependencies import Input, Output\n",
        "from flask import Flask"
      ],
      "metadata": {
        "id": "fixxIXk-bjlH"
      },
      "execution_count": null,
      "outputs": []
    },
    {
      "cell_type": "code",
      "source": [
        "# Load dataset\n",
        "# Ensure the dataset \"Cars in Movies.csv\" is uploaded to your Colab environment\n",
        "# Replace the file path if necessary\n",
        "df = pd.read_csv('Cars in Movies.csv', sep=None, engine='python')  # Add sep=None and engine='python'\n"
      ],
      "metadata": {
        "id": "-unraFFjbkNd"
      },
      "execution_count": null,
      "outputs": []
    },
    {
      "cell_type": "code",
      "source": [
        "df['Year'] = pd.to_numeric(df['Car Year'], errors='coerce')  # Convert year column to numeric\n",
        "df['Decade'] = (df['Year'] // 10) * 10"
      ],
      "metadata": {
        "id": "ZkxRHp24blwK"
      },
      "execution_count": null,
      "outputs": []
    },
    {
      "cell_type": "code",
      "source": [
        "# Helper function for trend analysis\n",
        "def plot_popular_vehicles_by_decade(df):\n",
        "    popular_vehicles = df.groupby(['Decade', 'Car Model']).size().reset_index(name='Count')\n",
        "    popular_vehicles = popular_vehicles.sort_values(by=['Decade', 'Count'], ascending=[True, False])\n",
        "\n",
        "    plt.figure(figsize=(12, 6))\n",
        "    for decade in popular_vehicles['Decade'].unique():\n",
        "        subset = popular_vehicles[popular_vehicles['Decade'] == decade].head(5)\n",
        "        plt.bar(subset['Car Model'], subset['Count'], label=f\"{decade}s\")\n",
        "\n",
        "    plt.title(\"Top 5 Popular Cars by Decade\")\n",
        "    plt.xlabel(\"Car Models\")\n",
        "    plt.ylabel(\"Frequency in Movies\")\n",
        "    plt.xticks(rotation=45)\n",
        "    plt.legend()\n",
        "    plt.tight_layout()\n",
        "    plt.show()"
      ],
      "metadata": {
        "id": "JVl_ZHkabnL1"
      },
      "execution_count": null,
      "outputs": []
    },
    {
      "cell_type": "code",
      "source": [
        "# Load dataset\n",
        "# Ensure the dataset \"Cars in Movies.csv\" is uploaded to your Colab environment\n",
        "# Replace the file path if necessary\n",
        "df = pd.read_csv('Cars in Movies.csv', sep=None, engine='python')  # Add sep=None and engine='python'\n",
        "# Rename the column to match what the code is looking for.\n",
        "df = df.rename(columns={\"Car Make/Model\": \"Car Model\"})"
      ],
      "metadata": {
        "id": "ECTqyykAbpQX"
      },
      "execution_count": null,
      "outputs": []
    },
    {
      "cell_type": "code",
      "source": [
        "# Adjust the column name for year\n",
        "df = df.rename(columns={\"Movie Year\": \"Year\", \"Car Make/Model\": \"Car Name\"})  # Adjust these as necessary\n",
        "\n",
        "# Car-to-Movie Recommendation\n",
        "def recommend_movies_by_car(car_model):\n",
        "    if 'Car Name' not in df.columns or 'Movie Title' not in df.columns:\n",
        "        print(\"Required columns are missing!\")\n",
        "        return None\n",
        "    return df[df['Car Name'].str.contains(car_model, case=False, na=False)][['Movie Title', 'Year']]\n",
        "\n",
        "# Movie-to-Car Recommendation\n",
        "def recommend_cars_by_movie(movie_title):\n",
        "    if 'Car Name' not in df.columns or 'Movie Title' not in df.columns:\n",
        "        print(\"Required columns are missing!\")\n",
        "        return None\n",
        "    return df[df['Movie Title'].str.contains(movie_title, case=False, na=False)][['Car Name', 'Year']]\n",
        "\n",
        "# Test Recommendations\n",
        "car_recommendations = recommend_movies_by_car(\"Ford Mustang\")\n",
        "if car_recommendations is not None:\n",
        "    print(\"Movies featuring Ford Mustang:\")\n",
        "    print(car_recommendations.head())\n",
        "\n",
        "movie_recommendations = recommend_cars_by_movie(\"Fast and Furious\")\n",
        "if movie_recommendations is not None:\n",
        "    print(\"Cars in Fast and Furious:\")\n",
        "    print(movie_recommendations.head())\n"
      ],
      "metadata": {
        "colab": {
          "base_uri": "https://localhost:8080/"
        },
        "id": "BugwzTqqbrDe",
        "outputId": "885822cb-05c7-401c-ab4a-853cdd7054c3"
      },
      "execution_count": null,
      "outputs": [
        {
          "output_type": "stream",
          "name": "stdout",
          "text": [
            "Movies featuring Ford Mustang:\n",
            "                                Movie Title    Year\n",
            "0    The Flood: Who Will Save Our Children?  1993.0\n",
            "139                              Smallville  2001.0\n",
            "308                                Jake 2.0  2003.0\n",
            "428                               The Hours  2002.0\n",
            "429                        Marked for Death  1990.0\n",
            "Cars in Fast and Furious:\n",
            "                     Car Name    Year\n",
            "523331       Packard Twin Six  1924.0\n",
            "523333           Indian Scout  1924.0\n",
            "523334   Ford Model T Touring  1924.0\n",
            "523335  Ford Model T Roadster  1924.0\n"
          ]
        }
      ]
    },
    {
      "cell_type": "code",
      "source": [
        "# Machine Learning Models\n",
        "# Car-Genre Prediction\n",
        "if {'Car Name', 'Car Year', 'Brand', 'Genre'}.issubset(df.columns):\n",
        "    X = df[['Car Name', 'Car Year', 'Brand']].dropna()  # Ensure no missing values\n",
        "    X['Car Name'] = X['Car Name'].astype('category').cat.codes  # Encode car names\n",
        "    X['Brand'] = X['Brand'].astype('category').cat.codes  # Encode brands\n",
        "    y = df['Genre'].dropna().apply(lambda x: x[0] if isinstance(x, list) and len(x) > 0 else None).dropna()  # Take the first genre as target\n",
        "\n",
        "    # Train-test split\n",
        "    X_train, X_test, y_train, y_test = train_test_split(X, y, test_size=0.3, random_state=42)\n",
        "\n",
        "    # Train model\n",
        "    model = RandomForestClassifier()\n",
        "    model.fit(X_train, y_train)\n",
        "\n",
        "    # Evaluate model\n",
        "    y_pred = model.predict(X_test)\n",
        "    print(f\"Accuracy: {accuracy_score(y_test, y_pred):.2f}\")\n",
        "else:\n",
        "    print(\"Required columns for Machine Learning are missing!\")\n"
      ],
      "metadata": {
        "colab": {
          "base_uri": "https://localhost:8080/"
        },
        "id": "l01_I3avbtl_",
        "outputId": "e607513d-84c3-4586-961e-b553b0631efa"
      },
      "execution_count": null,
      "outputs": [
        {
          "output_type": "stream",
          "name": "stdout",
          "text": [
            "Required columns for Machine Learning are missing!\n"
          ]
        }
      ]
    },
    {
      "cell_type": "code",
      "source": [
        "# Interactive Dashboard\n",
        "# Set up a Dash app\n",
        "app = dash.Dash(__name__)\n",
        "server = Flask(__name__)\n",
        "\n",
        "app.layout = html.Div([\n",
        "    dcc.Dropdown(\n",
        "        id='car-model',\n",
        "        options=[{'label': i, 'value': i} for i in df['Car Name'].unique()] if 'Car Name' in df.columns else [],\n",
        "        placeholder=\"Select Car Model\"\n",
        "    ),\n",
        "    dcc.Graph(id='trend-graph')\n",
        "])\n",
        "\n",
        "@app.callback(\n",
        "    Output('trend-graph', 'figure'),\n",
        "    [Input('car-model', 'value')]\n",
        ")\n",
        "def update_graph(selected_model):\n",
        "    if selected_model is None or 'Car Name' not in df.columns or 'Decade' not in df.columns:\n",
        "        return px.bar(title=\"Data Missing\")\n",
        "\n",
        "    filtered_data = df[df['Car Name'] == selected_model]\n",
        "    if filtered_data.empty:\n",
        "        return px.bar(title=f\"No data for {selected_model}\")\n",
        "\n",
        "    if 'Count' not in filtered_data.columns:\n",
        "        filtered_data['Count'] = filtered_data.groupby(['Decade'])['Car Name'].transform('count')\n",
        "\n",
        "    fig = px.bar(filtered_data, x='Decade', y='Count', title=f\"Trends for {selected_model}\")\n",
        "    return fig\n",
        "\n",
        "# Run Dash app\n",
        "if __name__ == '__main__':\n",
        "    app.run_server(debug=True, use_reloader=False)\n"
      ],
      "metadata": {
        "colab": {
          "base_uri": "https://localhost:8080/",
          "height": 671
        },
        "id": "CA82DGlkbvut",
        "outputId": "58283c36-2eb8-472a-bf23-bb30002eb86f"
      },
      "execution_count": null,
      "outputs": [
        {
          "output_type": "display_data",
          "data": {
            "text/plain": [
              "<IPython.core.display.Javascript object>"
            ],
            "application/javascript": [
              "(async (port, path, width, height, cache, element) => {\n",
              "    if (!google.colab.kernel.accessAllowed && !cache) {\n",
              "      return;\n",
              "    }\n",
              "    element.appendChild(document.createTextNode(''));\n",
              "    const url = await google.colab.kernel.proxyPort(port, {cache});\n",
              "    const iframe = document.createElement('iframe');\n",
              "    iframe.src = new URL(path, url).toString();\n",
              "    iframe.height = height;\n",
              "    iframe.width = width;\n",
              "    iframe.style.border = 0;\n",
              "    iframe.allow = [\n",
              "        'accelerometer',\n",
              "        'autoplay',\n",
              "        'camera',\n",
              "        'clipboard-read',\n",
              "        'clipboard-write',\n",
              "        'gyroscope',\n",
              "        'magnetometer',\n",
              "        'microphone',\n",
              "        'serial',\n",
              "        'usb',\n",
              "        'xr-spatial-tracking',\n",
              "    ].join('; ');\n",
              "    element.appendChild(iframe);\n",
              "  })(8050, \"/\", \"100%\", 650, false, window.element)"
            ]
          },
          "metadata": {}
        }
      ]
    }
  ]
}